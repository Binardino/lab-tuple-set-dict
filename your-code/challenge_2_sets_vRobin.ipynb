{
 "cells": [
  {
   "cell_type": "markdown",
   "metadata": {},
   "source": [
    "## Challenge 2: Sets\n",
    "\n",
    "There are a lot to learn about Python Sets and the information presented in the lesson is limited due to its length. To learn Python Sets in depth you are strongly encouraged to review the W3Schools tutorial on [Python Sets Examples and Methods](https://www.w3schools.com/python/python_sets.asp) before you work on this lab. Some difficult questions in this lab have their solutions in the W3Schools tutorial.\n",
    "\n",
    "#### First, import the Python `random` library."
   ]
  },
  {
   "cell_type": "code",
   "execution_count": 1,
   "metadata": {},
   "outputs": [],
   "source": [
    "import random"
   ]
  },
  {
   "cell_type": "markdown",
   "metadata": {},
   "source": [
    "#### In the cell below, create a list named `sample_list_1` with 80 random values. \n",
    "\n",
    "Requirements:\n",
    "\n",
    "* Each value is an integer falling between 0 and 100.\n",
    "* Each value in the list is unique.\n",
    "\n",
    "Print `sample_list_1` to review its values\n",
    "\n",
    "*Hint: use `random.sample` ([reference](https://docs.python.org/3/library/random.html#random.sample)).*"
   ]
  },
  {
   "cell_type": "code",
   "execution_count": 4,
   "metadata": {},
   "outputs": [
    {
     "name": "stdout",
     "output_type": "stream",
     "text": [
      "[82, 61, 50, 13, 91, 35, 85, 33, 80, 45, 51, 19, 73, 68, 62, 53, 1, 96, 88, 65, 86, 43, 87, 6, 11, 97, 100, 37, 57, 69, 2, 29, 27, 38, 81, 55, 26, 31, 74, 94, 40, 60, 32, 76, 7, 63, 72, 12, 64, 83, 14, 84, 67, 52, 41, 79, 77, 9, 22, 99, 36, 92, 30, 70, 49, 89, 10, 4, 25, 39, 0, 21, 58, 8, 46, 28, 59, 16, 93, 3]\n"
     ]
    }
   ],
   "source": [
    "# random.sample(population, k)\n",
    "\n",
    "sample_list_1 = random.sample(range(101),80)\n",
    "print(sample_list_1)"
   ]
  },
  {
   "cell_type": "markdown",
   "metadata": {},
   "source": [
    "#### Convert `sample_list_1` to a set called `set1`. Print the length of the set. Is its length still 80?"
   ]
  },
  {
   "cell_type": "code",
   "execution_count": 5,
   "metadata": {},
   "outputs": [
    {
     "name": "stdout",
     "output_type": "stream",
     "text": [
      "yes the length of the set is still 80\n"
     ]
    }
   ],
   "source": [
    "# Your code here\n",
    "set1 = set(sample_list_1)\n",
    "len(set1)\n",
    "print(\"yes the length of the set is still\", len(set1))"
   ]
  },
  {
   "cell_type": "markdown",
   "metadata": {},
   "source": [
    "#### Create another list named `sample_list_2` with 80 random values.\n",
    "\n",
    "Requirements:\n",
    "\n",
    "* Each value is an integer falling between 0 and 100.\n",
    "* The values in the list don't have to be unique.\n",
    "\n",
    "*Hint: Use a FOR loop and the `randrange()` function.*"
   ]
  },
  {
   "cell_type": "code",
   "execution_count": 8,
   "metadata": {},
   "outputs": [
    {
     "name": "stdout",
     "output_type": "stream",
     "text": [
      "80\n",
      "[82, 6, 35, 42, 36, 58, 59, 50, 44, 41, 95, 47, 4, 4, 50, 37, 46, 24, 44, 65, 79, 90, 4, 98, 44, 62, 94, 73, 62, 11, 83, 38, 37, 47, 48, 1, 55, 11, 67, 72, 100, 0, 85, 95, 89, 41, 59, 24, 97, 81, 32, 88, 61, 0, 31, 54, 46, 30, 74, 63, 75, 40, 83, 53, 58, 27, 5, 26, 5, 54, 47, 16, 53, 13, 20, 88, 90, 47, 7, 2]\n"
     ]
    }
   ],
   "source": [
    "# Your code here\n",
    "sample_list_2 = []\n",
    "\n",
    "for i in range(80):\n",
    "    x = random.randrange(101)\n",
    "    sample_list_2.append(x)\n",
    "\n",
    "print(len(sample_list_2))\n",
    "print(sample_list_2)\n"
   ]
  },
  {
   "cell_type": "markdown",
   "metadata": {},
   "source": [
    "#### Convert `sample_list_2` to a set called `set2`. Print the length of the set. Is its length still 80?"
   ]
  },
  {
   "cell_type": "code",
   "execution_count": 10,
   "metadata": {},
   "outputs": [
    {
     "name": "stdout",
     "output_type": "stream",
     "text": [
      "no, the length of the set is no longer of 80 but instead of 56\n",
      "of course, sets can only have unique values, so all duplicate are eliminated. It's only logical as Spock would say\n"
     ]
    }
   ],
   "source": [
    "# Your code here\n",
    "set2 = set(sample_list_2)\n",
    "len(set2)\n",
    "print(\"no, the length of the set is no longer of 80 but instead of\", len(set2))\n",
    "\n",
    "print(\"of course, sets can only have unique values, so all duplicate are eliminated. It's only logical as Spock would say\")"
   ]
  },
  {
   "cell_type": "markdown",
   "metadata": {},
   "source": [
    "#### Identify the elements present in `set1` but not in `set2`. Assign the elements to a new set named `set3`."
   ]
  },
  {
   "cell_type": "code",
   "execution_count": 11,
   "metadata": {},
   "outputs": [
    {
     "name": "stdout",
     "output_type": "stream",
     "text": [
      "<class 'set'>\n",
      "{3, 8, 9, 10, 12, 14, 19, 21, 22, 25, 28, 29, 33, 39, 43, 45, 49, 51, 52, 57, 60, 64, 68, 69, 70, 76, 77, 80, 84, 86, 87, 91, 92, 93, 96, 99}\n"
     ]
    }
   ],
   "source": [
    "set3 = set()\n",
    "\n",
    "print(type(set3))\n",
    "\n",
    "for i in set1:\n",
    "    if i not in set2:\n",
    "        set3.add(i)\n",
    "print(set3)"
   ]
  },
  {
   "cell_type": "markdown",
   "metadata": {},
   "source": [
    "#### Identify the elements present in `set2` but not in `set1`. Assign the elements to a new set named `set4`."
   ]
  },
  {
   "cell_type": "code",
   "execution_count": 12,
   "metadata": {},
   "outputs": [
    {
     "name": "stdout",
     "output_type": "stream",
     "text": [
      "<class 'set'>\n",
      "{98, 5, 42, 75, 44, 47, 48, 20, 54, 24, 90, 95}\n"
     ]
    }
   ],
   "source": [
    "set4 = set()\n",
    "\n",
    "print(type(set4))\n",
    "\n",
    "for i in set2:\n",
    "    if i not in set1:\n",
    "        set4.add(i)\n",
    "print(set4)"
   ]
  },
  {
   "cell_type": "markdown",
   "metadata": {},
   "source": [
    "#### Now Identify the elements shared between `set1` and `set2`. Assign the elements to a new set named `set5`."
   ]
  },
  {
   "cell_type": "code",
   "execution_count": 15,
   "metadata": {},
   "outputs": [
    {
     "name": "stdout",
     "output_type": "stream",
     "text": [
      "{0, 1, 2, 4, 6, 7, 11, 13, 16, 26, 27, 30, 31, 32, 35, 36, 37, 38, 40, 41, 46, 50, 53, 55, 58, 59, 61, 62, 63, 65, 67, 72, 73, 74, 79, 81, 82, 83, 85, 88, 89, 94, 97, 100}\n"
     ]
    }
   ],
   "source": [
    "#Method 1, using set.intersection() method\n",
    "set55 = set.intersection(set1,set2)\n",
    "print(set55)"
   ]
  },
  {
   "cell_type": "code",
   "execution_count": 16,
   "metadata": {},
   "outputs": [
    {
     "name": "stdout",
     "output_type": "stream",
     "text": [
      "{0, 1, 2, 4, 6, 7, 11, 13, 16, 26, 27, 30, 31, 32, 35, 36, 37, 38, 40, 41, 46, 50, 53, 55, 58, 59, 61, 62, 63, 65, 67, 72, 73, 74, 79, 81, 82, 83, 85, 88, 89, 94, 97, 100}\n"
     ]
    }
   ],
   "source": [
    "#Method 2, using & sign to set 1 & set 2\n",
    "\n",
    "set5 = set()\n",
    "\n",
    "set5 = set1 & set2\n",
    "print(set5)\n"
   ]
  },
  {
   "cell_type": "markdown",
   "metadata": {},
   "source": [
    "#### What is the relationship among the following values:\n",
    "\n",
    "* len(set1)\n",
    "* len(set2)\n",
    "* len(set3)\n",
    "* len(set4)\n",
    "* len(set5)\n",
    "\n",
    "Think about the set operations that you used to create the sets and how the lengths of the sets are related to each other given those operations."
   ]
  },
  {
   "cell_type": "code",
   "execution_count": 17,
   "metadata": {},
   "outputs": [
    {
     "name": "stdout",
     "output_type": "stream",
     "text": [
      "80\n",
      "56\n",
      "36\n",
      "12\n",
      "44\n"
     ]
    }
   ],
   "source": [
    "# Your code here\n",
    "print(len(set1)) # set 1 created 80 unique values thanks to random.sample() method which creates only unique numbers \n",
    "print(len(set2)) #set 2 created sample_list2 of 80 potentially duplicated values with random.randrange(). \n",
    "                 #Transforming sample_list2 to a set eliminated duplicated values -> remain 56 unique values\n",
    "print(len(set3)) #set3 = set1 - set2 ie. values in set1 NOT set2\n",
    "print(len(set4)) #set4 = set2 - set1 ie. values in set2 NOT set1\n",
    "print(len(set5)) #set5 = values shared by both sets \n",
    "                 #-> set5 (44 shared values) + set4(12 unique set2 values) = set2's 56 values\n",
    "                 #-> set5 (44 shared values) + set3(36 unique set1 values) = set1's 80 values"
   ]
  },
  {
   "cell_type": "markdown",
   "metadata": {},
   "source": [
    "#### Create an empty set called `set6`."
   ]
  },
  {
   "cell_type": "code",
   "execution_count": 18,
   "metadata": {},
   "outputs": [],
   "source": [
    "# Your code here\n",
    "set6 = set()"
   ]
  },
  {
   "cell_type": "markdown",
   "metadata": {},
   "source": [
    "#### Add `set3` and `set5` to `set6` using the Python Set `update` method."
   ]
  },
  {
   "cell_type": "code",
   "execution_count": 21,
   "metadata": {},
   "outputs": [
    {
     "name": "stdout",
     "output_type": "stream",
     "text": [
      "{0, 1, 2, 3, 4, 6, 7, 8, 9, 10, 11, 12, 13, 14, 16, 19, 21, 22, 25, 26, 27, 28, 29, 30, 31, 32, 33, 35, 36, 37, 38, 39, 40, 41, 43, 45, 46, 49, 50, 51, 52, 53, 55, 57, 58, 59, 60, 61, 62, 63, 64, 65, 67, 68, 69, 70, 72, 73, 74, 76, 77, 79, 80, 81, 82, 83, 84, 85, 86, 87, 88, 89, 91, 92, 93, 94, 96, 97, 99, 100}\n"
     ]
    }
   ],
   "source": [
    "# Your code here\n",
    "set6.update(set3, set5)\n",
    "print(set6)"
   ]
  },
  {
   "cell_type": "markdown",
   "metadata": {},
   "source": [
    "#### Check if `set1` and `set6` are equal."
   ]
  },
  {
   "cell_type": "code",
   "execution_count": 22,
   "metadata": {},
   "outputs": [
    {
     "name": "stdout",
     "output_type": "stream",
     "text": [
      "True ! yep, totally equal\n"
     ]
    }
   ],
   "source": [
    "# set6 = combining set3 (unique set1 values) & set5 (shared values btw set1 & set2) will recreate set1\n",
    "if set1 == set6:\n",
    "    print(\"True ! yep, totally equal\")\n",
    "else:\n",
    "    print(\"False ! not quite there\")"
   ]
  },
  {
   "cell_type": "markdown",
   "metadata": {},
   "source": [
    "#### Check if `set1` contains `set2` using the Python Set `issubset` method. Then check if `set1` contains `set3`."
   ]
  },
  {
   "cell_type": "code",
   "execution_count": 23,
   "metadata": {},
   "outputs": [
    {
     "name": "stdout",
     "output_type": "stream",
     "text": [
      "False\n",
      "no, set1 does not contain set 2\n",
      "True\n",
      "yes, set1 does contain set 3\n"
     ]
    }
   ],
   "source": [
    "print(set2.issubset(set1))\n",
    "print(\"no, set1 does not contain set 2\")\n",
    "\n",
    "print(set3.issubset(set1))\n",
    "print(\"yes, set1 does contain set 3\")"
   ]
  },
  {
   "cell_type": "markdown",
   "metadata": {},
   "source": [
    "#### Using the Python Set `union` method, aggregate `set3`, `set4`, and `set5`. Then aggregate `set1` and `set2`. \n",
    "\n",
    "#### Check if the aggregated values are equal."
   ]
  },
  {
   "cell_type": "code",
   "execution_count": 25,
   "metadata": {},
   "outputs": [
    {
     "name": "stdout",
     "output_type": "stream",
     "text": [
      "True ! yep, totally equal\n"
     ]
    }
   ],
   "source": [
    "# Your code here\n",
    "set_union_3_4_5 = set()\n",
    "set_union_3_4_5.union(set3,set4,set5)\n",
    "\n",
    "set_union_1_2 = set()\n",
    "set_union_1_2.union(set1,set2)\n",
    "\n",
    "if set_union_3_4_5 == set_union_1_2:\n",
    "    print(\"True ! yep, totally equal\")\n",
    "else:\n",
    "    print(\"False ! not quite there\")"
   ]
  },
  {
   "cell_type": "markdown",
   "metadata": {},
   "source": [
    "#### Using the `pop` method, remove the first element from `set1`."
   ]
  },
  {
   "cell_type": "code",
   "execution_count": 26,
   "metadata": {},
   "outputs": [
    {
     "ename": "TypeError",
     "evalue": "'set' object is not subscriptable",
     "output_type": "error",
     "traceback": [
      "\u001b[1;31m---------------------------------------------------------------------------\u001b[0m",
      "\u001b[1;31mTypeError\u001b[0m                                 Traceback (most recent call last)",
      "\u001b[1;32m<ipython-input-26-c416b703da9c>\u001b[0m in \u001b[0;36m<module>\u001b[1;34m\u001b[0m\n\u001b[0;32m      1\u001b[0m \u001b[1;31m# Your code here\u001b[0m\u001b[1;33m\u001b[0m\u001b[1;33m\u001b[0m\u001b[1;33m\u001b[0m\u001b[0m\n\u001b[1;32m----> 2\u001b[1;33m \u001b[0mset1\u001b[0m\u001b[1;33m[\u001b[0m\u001b[1;36m0\u001b[0m\u001b[1;33m]\u001b[0m\u001b[1;33m\u001b[0m\u001b[1;33m\u001b[0m\u001b[0m\n\u001b[0m",
      "\u001b[1;31mTypeError\u001b[0m: 'set' object is not subscriptable"
     ]
    }
   ],
   "source": [
    "# there is no way to remove the \"first element\" from set1 !\n",
    "# sets are unordered data structure, so set.pop() removes a random value from the set\n",
    "# but removing the first element from the list is meaningless\n",
    "# That being said, it is possible to make the set1 a list -> remove the first element of the list -> transforming the list to a set again"
   ]
  },
  {
   "cell_type": "markdown",
   "metadata": {},
   "source": [
    "#### Remove every element in the following list from `set1` if they are present in the set. Print the remaining elements.\n",
    "\n",
    "```\n",
    "list_to_remove = [1, 9, 11, 19, 21, 29, 31, 39, 41, 49, 51, 59, 61, 69, 71, 79, 81, 89, 91, 99]\n",
    "```"
   ]
  },
  {
   "cell_type": "code",
   "execution_count": 28,
   "metadata": {},
   "outputs": [
    {
     "name": "stdout",
     "output_type": "stream",
     "text": [
      "{0, 2, 3, 4, 6, 7, 8, 10, 12, 13, 14, 16, 22, 25, 26, 27, 28, 30, 32, 33, 35, 36, 37, 38, 40, 43, 45, 46, 50, 52, 53, 55, 57, 58, 60, 62, 63, 64, 65, 67, 68, 70, 72, 73, 74, 76, 77, 80, 82, 83, 84, 85, 86, 87, 88, 92, 93, 94, 96, 97, 100}\n"
     ]
    }
   ],
   "source": [
    "list_to_remove = [1, 9, 11, 19, 21, 29, 31, 39, 41, 49, 51, 59, 61, 69, 71, 79, 81, 89, 91, 99]\n",
    "\n",
    "for i in list_to_remove:\n",
    "    if i in set1:\n",
    "        set1.remove(i)\n",
    "\n",
    "print(set1)"
   ]
  },
  {
   "cell_type": "code",
   "execution_count": null,
   "metadata": {},
   "outputs": [],
   "source": []
  }
 ],
 "metadata": {
  "kernelspec": {
   "display_name": "Python 3",
   "language": "python",
   "name": "python3"
  },
  "language_info": {
   "codemirror_mode": {
    "name": "ipython",
    "version": 3
   },
   "file_extension": ".py",
   "mimetype": "text/x-python",
   "name": "python",
   "nbconvert_exporter": "python",
   "pygments_lexer": "ipython3",
   "version": "3.7.3"
  }
 },
 "nbformat": 4,
 "nbformat_minor": 2
}
